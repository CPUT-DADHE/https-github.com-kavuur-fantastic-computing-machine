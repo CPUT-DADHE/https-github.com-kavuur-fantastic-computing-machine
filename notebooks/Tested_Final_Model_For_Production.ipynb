{
  "cells": [
    {
      "cell_type": "code",
      "execution_count": null,
      "metadata": {
        "colab": {
          "base_uri": "https://localhost:8080/"
        },
        "id": "uPjJ0iST-YrW",
        "outputId": "d5be65e2-f832-4f38-e795-2253b408e659"
      },
      "outputs": [
        {
          "output_type": "stream",
          "name": "stdout",
          "text": [
            "Mounted at /content/drive\n"
          ]
        }
      ],
      "source": [
        "import pandas as pd\n",
        "from google.colab import drive\n",
        "drive.mount('/content/drive')"
      ]
    },
    {
      "cell_type": "code",
      "execution_count": null,
      "metadata": {
        "id": "1EU_JcNO1rly"
      },
      "outputs": [],
      "source": [
        "import numpy as np\n",
        "from sklearn.experimental import enable_iterative_imputer\n",
        "from sklearn.impute import IterativeImputer\n",
        "from xgboost import XGBRegressor\n"
      ]
    },
    {
      "cell_type": "code",
      "execution_count": null,
      "metadata": {
        "id": "ZrqjFLfH9Yxc"
      },
      "outputs": [],
      "source": [
        "import pickle\n",
        "import category_encoders as ce"
      ]
    },
    {
      "cell_type": "code",
      "source": [
        "with open(\"/content/drive/My Drive/Colab Notebooks/Explainable-AI/Paper-3/models_for_production/scaler.pkl\", \"wb\") as f:\n",
        "    # Dump the LeaveOneOutEncoder object to the file object\n",
        "    pickle.dump(scaler, f)\n",
        "\n",
        "# Close the file object\n",
        "f.close()\n"
      ],
      "metadata": {
        "id": "3C4mMlVvSxxJ"
      },
      "execution_count": null,
      "outputs": []
    },
    {
      "cell_type": "code",
      "execution_count": null,
      "metadata": {
        "id": "B6OW7TdxfFwz"
      },
      "outputs": [],
      "source": [
        "from sklearn.model_selection import train_test_split\n"
      ]
    },
    {
      "cell_type": "code",
      "execution_count": null,
      "metadata": {
        "id": "YUTcUkul3RHL"
      },
      "outputs": [],
      "source": [
        "from sklearn.metrics import accuracy_score\n",
        "from sklearn.decomposition import PCA\n",
        "from sklearn.model_selection import GridSearchCV\n",
        "from sklearn.model_selection import cross_val_score\n",
        "from sklearn.model_selection import KFold\n",
        "from sklearn.svm import SVC\n",
        "import xgboost as xgb\n",
        "from sklearn.metrics import classification_report\n",
        "from keras.models import Sequential\n",
        "from keras.layers import Dense\n",
        "# from keras.utils import np_utils\n",
        "batch_size = 10\n",
        "num_classes = 1\n",
        "epochs = 100\n",
        "import pickle"
      ]
    },
    {
      "cell_type": "code",
      "execution_count": null,
      "metadata": {
        "id": "DdePhk9A3Vov"
      },
      "outputs": [],
      "source": [
        "from scipy.stats import loguniform\n",
        "from pandas import read_csv\n",
        "from sklearn.linear_model import LogisticRegression\n",
        "from sklearn.model_selection import RepeatedStratifiedKFold\n",
        "from sklearn.model_selection import RandomizedSearchCV"
      ]
    },
    {
      "cell_type": "code",
      "execution_count": null,
      "metadata": {
        "id": "DRVP0KjI3yrZ"
      },
      "outputs": [],
      "source": [
        "\n",
        "# Use scikit-learn to grid search the batch size and epochs\n",
        "import numpy as np\n",
        "import tensorflow as tf\n",
        "from sklearn.model_selection import GridSearchCV\n",
        "from tensorflow.keras.models import Sequential\n",
        "from tensorflow.keras.layers import Dense\n",
        "from scikeras.wrappers import KerasClassifier\n",
        "from sklearn.model_selection import StratifiedKFold\n",
        "from tensorflow.keras.layers import Dropout\n",
        "from tensorflow.keras.constraints import MaxNorm\n",
        "from sklearn.metrics import matthews_corrcoef\n",
        "from imblearn.metrics import geometric_mean_score\n",
        "from sklearn.model_selection import cross_val_score\n",
        "from numpy import mean\n",
        "from numpy import std\n",
        "# Function to create model, required for Keras"
      ]
    },
    {
      "cell_type": "code",
      "execution_count": null,
      "metadata": {
        "colab": {
          "base_uri": "https://localhost:8080/"
        },
        "id": "uznOPEC1gKi6",
        "outputId": "306f6f78-ce34-4cca-92e5-8219a365f062"
      },
      "outputs": [
        {
          "output_type": "stream",
          "name": "stdout",
          "text": [
            "Original class distribution: [169  36]\n",
            "Resampled class distribution: [169 169]\n"
          ]
        }
      ],
      "source": [
        "from sklearn.model_selection import train_test_split\n",
        "from imblearn.over_sampling import RandomOverSampler\n"
      ]
    },
    {
      "cell_type": "code",
      "execution_count": null,
      "metadata": {
        "id": "3dJLqVKUpvQL"
      },
      "outputs": [],
      "source": [
        "from tensorflow.keras.models import Model\n",
        "from tensorflow.keras.layers import Input, Dense\n",
        "import tensorflow as tf\n",
        "import pickle"
      ]
    },
    {
      "cell_type": "code",
      "execution_count": null,
      "metadata": {
        "id": "Gi2XMIPtIgr7"
      },
      "outputs": [],
      "source": [
        "def create_model(dropout_rate, weight_constraint,neurons,activation):\n",
        "  # create modeloptimizer=optimizer\n",
        "  input_shape = (X_Corr.shape[1],)\n",
        "  inputs = tf.keras.Input(shape=input_shape)\n",
        "  input = tf.keras.layers.Dense((X_Corr.shape[1])+neurons, activation=activation)(inputs)\n",
        "  x= tf.keras.layers.Dropout(dropout_rate)(input)\n",
        "  second=tf.keras.layers.Dense((X_Corr.shape[1])+neurons, activation=activation)(x)\n",
        "  x= tf.keras.layers.Dropout(dropout_rate)(second)\n",
        "  third=tf.keras.layers.Dense((X_Corr.shape[1])+neurons, activation=activation)(x)\n",
        "  x= tf.keras.layers.Dropout(dropout_rate)(third)\n",
        "  fourth=tf.keras.layers.Dense((X_Corr.shape[1])+neurons, activation=activation)(x)\n",
        "  x= tf.keras.layers.Dropout(dropout_rate)(fourth)\n",
        "  fifth=tf.keras.layers.Dense((X_Corr.shape[1])+neurons, activation=activation)(x)\n",
        "# Add more hidden layers if necessary\n",
        "\n",
        "# Add output layer with softmax activation\n",
        "  outputs = tf.keras.layers.Dense(num_classes, activation='sigmoid')(fifth)\n",
        "\n",
        "# Create the model\n",
        "  m = tf.keras.Model(inputs=inputs, outputs=outputs)\n",
        "  m.compile(loss='binary_crossentropy', optimizer='SGD', metrics=['accuracy'])\n",
        "  return m\n"
      ]
    },
    {
      "cell_type": "code",
      "execution_count": null,
      "metadata": {
        "id": "UctMwxD9zV63"
      },
      "outputs": [],
      "source": [
        "loaded = pickle.load(open('/content/drive/My Drive/Colab Notebooks/Explainable-AI/Paper-3/models_for_production/XGBoost_new.pkl', 'rb'))\n",
        "mlp = pickle.load(open('/content/drive/My Drive/Colab Notebooks/Explainable-AI/Paper-3/models_for_production/MLP_Tensorflow_latest.pkl', 'rb'))\n"
      ]
    },
    {
      "cell_type": "markdown",
      "metadata": {
        "id": "aMYQDuMULMgP"
      },
      "source": [
        "## Functions for data preprocessing"
      ]
    },
    {
      "cell_type": "code",
      "execution_count": null,
      "metadata": {
        "id": "UEXuzxRBru2I"
      },
      "outputs": [],
      "source": [
        "def categories_BP(s):\n",
        "  Systolic, diastolic= s[0],s[1]\n",
        "  # return num, denom\n",
        "  if((Systolic<=120) and (diastolic<80)):\n",
        "    return 'Normal'\n",
        "  elif((Systolic>=120 and Systolic<=129) and (diastolic<80)):\n",
        "    return 'Optimal'\n",
        "  elif((Systolic>=130 and Systolic<=139) or (diastolic>=80 and diastolic<=89)):\n",
        "    return 'High Normal'\n",
        "  elif((Systolic>=140 and Systolic<=159) or (diastolic>=90 and diastolic<=99)):\n",
        "    return 'Mild_Hypertension'\n",
        "  elif((Systolic>=160 and Systolic<=179) or (diastolic>=100 and diastolic<=109)):\n",
        "    return 'Moderate_Hypertension'\n",
        "  elif((Systolic>=180) or (diastolic>=110)):\n",
        "    return 'Severe_Hypertension'\n",
        "  elif((Systolic>=140) and (diastolic<90)):\n",
        "    return 'Isolated Systolic'\n",
        "  else:\n",
        "    return 'Out of Range'"
      ]
    },
    {
      "cell_type": "code",
      "execution_count": null,
      "metadata": {
        "id": "OvIZl4qyxMur"
      },
      "outputs": [],
      "source": [
        "with open(\"/content/drive/My Drive/Colab Notebooks/Explainable-AI/Paper-3/models_for_production/scaler.pkl\", \"rb\") as f:\n",
        "    # Load the trained LeaveOneOutEncoder object from the file object\n",
        "    scale= pickle.load(f)"
      ]
    },
    {
      "cell_type": "code",
      "execution_count": null,
      "metadata": {
        "id": "nsCBTwcEzIjV"
      },
      "outputs": [],
      "source": [
        "with open(\"/content/drive/My Drive/Colab Notebooks/Explainable-AI/Paper-3/models_for_production/encoder_all_4.pkl\", \"rb\") as f:\n",
        "    # Load the trained LeaveOneOutEncoder object from the file object\n",
        "    encode= pickle.load(f)"
      ]
    },
    {
      "cell_type": "code",
      "execution_count": null,
      "metadata": {
        "id": "FX7zjN82tPjD"
      },
      "outputs": [],
      "source": [
        "temp_upper=37.2\n",
        "temp_ave=37\n",
        "temp_lower=36.1\n",
        "chol_upper=6.21\n",
        "chol_ave=5.17\n",
        "Glucose_Level_upper=4.90\n",
        "Glucose_Level_ave=4.30\n",
        "Glucose_Level_lower=3.60\n",
        "Weight_upper=92\n",
        "Weight_ave=79\n",
        "Weight_lower=67\n",
        "HB_upper_males=17.2\n",
        "HB_ave_males=13.8\n",
        "HB_upper_females=15.1\n",
        "HB_ave_females=12.1\n",
        "PA_week_upper=2\n",
        "PA_week_ave=2\n",
        "PA_week_lower=1"
      ]
    },
    {
      "cell_type": "code",
      "execution_count": null,
      "metadata": {
        "id": "gmdjHGXIuBkX"
      },
      "outputs": [],
      "source": [
        "def ifNumeric(data,gender):\n",
        "  for i in range(len(data)):\n",
        "    if(i==0):\n",
        "      if(data[i]>=temp_upper):\n",
        "        print(\"Temperature is high \\n\")\n",
        "      elif(data[i]>=36.1 and data[i]<temp_upper):\n",
        "        print(\"Temperature is Normal \\n\")\n",
        "      elif(data[i]<=temp_lower):\n",
        "        print(\"Temperature is Low \\n\")\n",
        "    elif(i==1):\n",
        "      if(data[i]>=chol_upper):\n",
        "        print(\"Cholestrol is high \\n\")\n",
        "      elif(data[i]>=chol_ave and data[i]<=6.18):\n",
        "        print(\"Cholestrol is at borderline High \\n\")\n",
        "      elif(data[i]==chol_ave):\n",
        "        print(\"Cholestrol is Normal \\n\")\n",
        "    elif(i==2):\n",
        "      if(data[i]>=Glucose_Level_upper):\n",
        "        print(\"Glucose is high \\n\")\n",
        "      elif(data[i]>=Glucose_Level_ave and data[i]<Glucose_Level_upper):\n",
        "        print(\"Glucose is Average \\n\")\n",
        "      elif(data[i]<=Glucose_Level_lower):\n",
        "        print(\"Glucose is Low \\n\")\n",
        "    elif(i==3):\n",
        "      if(data[i]>=102 and gender[0]==['M']):\n",
        "        print(\"The patient is a bit obese \\n\")\n",
        "      elif(data[i]>=88 and gender[0]==['F']):\n",
        "        print(\"The patient is a bit obese \\n\")\n",
        "      elif(data[i]<102 and gender[0]==['M']):\n",
        "        print(\"The patient's waist is not above the overweight's threshold \\n\")\n",
        "      elif(data[i]<88 and gender[0]==['F']):\n",
        "        print(\"The patient's waist is not above the overweight's threshold \\n\")\n",
        "    elif(i==4):\n",
        "      if(data[i]>=Weight_upper):\n",
        "        print(\"The patient's weight is a bit high \\n\")\n",
        "      elif(data[i]>=Weight_ave and data[i]<Weight_upper):\n",
        "        print(\"The patient's weight is normal \\n\")\n",
        "      elif(data[i]<=Weight_lower):\n",
        "        print(\"The patient's weight is on the lower side \\n\")\n",
        "    elif(i==5):\n",
        "      if(data[i]>=40.0):\n",
        "        print(\"Obesity III range (extreme obesity) \\n\")\n",
        "      elif(data[i]>=35.0 and data[i]<=39.9):\n",
        "        print(\"Obesity II range \\n\")\n",
        "      elif(data[i]>=30.0 and data[i]<=34.9):\n",
        "        print(\"Obesity I range \\n\")\n",
        "      elif(data[i]>=25.0 and data[i]<=29.9):\n",
        "        print(\"Overweight range \\n\")\n",
        "      elif(data[i]>=18.5 and data[i]<=24.9):\n",
        "        print(\"Healthy Weight range (Normal) \\n\")\n",
        "      elif(data[i]<18.5):\n",
        "        print(\"Underweight range \\n\")\n",
        "    elif(i==6):\n",
        "      if(data[i]>=HB_upper_males and gender[0]=='M'):\n",
        "        print(\"Hemoglobin is high \\n\")\n",
        "      elif(data[i]>=HB_ave_males and data[i]<HB_upper_males):\n",
        "        print(\"Hemoglobin is Normal \\n\")\n",
        "      elif(data[i]>=HB_upper_females and gender[0]=='F'):\n",
        "        print(\"Hemoglobin is high \\n\")\n",
        "      elif(data[i]>=HB_ave_females and data[i]<HB_upper_females):\n",
        "        print(\"Hemoglobin is Normal \\n\")\n",
        "      else:\n",
        "        print(\"Invalid Input \\n\")\n",
        "    elif(i==7):\n",
        "      if(data[i]>=PA_week_upper):\n",
        "        print(\"Physical Activity is Normal \\n\")\n",
        "      elif(data[i]<PA_week_upper):\n",
        "        print(\"Physical Activity is very low \\n\")"
      ]
    },
    {
      "cell_type": "code",
      "execution_count": null,
      "metadata": {
        "id": "D46ODiDfuG5x"
      },
      "outputs": [],
      "source": [
        "def ifBP_values(data):\n",
        "  print(\"The Blood Pressure is at:\",categories_BP(data),\"\\n\")\n"
      ]
    },
    {
      "cell_type": "code",
      "execution_count": null,
      "metadata": {
        "id": "qxaKO_iQuKeK"
      },
      "outputs": [],
      "source": [
        "def ifOther_Categorical_values(data):\n",
        "  for i in range(len(data)):\n",
        "    if(i==0):\n",
        "      if(int(data[i])==1):\n",
        "        print(\"The patient was never married \\n\")\n",
        "      elif(int(data[i])==2):\n",
        "        print(\"The Patient lives with someone \\n\")\n",
        "      elif(int(data[i])==3):\n",
        "        print(\"The Patient is Married \\n\")\n",
        "      elif(int(data[i])==4):\n",
        "        print(\"The Patient is Divorced \\n\")\n",
        "      else:\n",
        "        print(\"Wrong Input! \\n\")\n",
        "    elif(i==1):\n",
        "      if(data[i]=='Y'):\n",
        "        print(\"The Patient has some cold \\n\")\n",
        "      elif(data[i]=='N'):\n",
        "        print(\"The Patient doesn't have a cold \\n\")\n",
        "      else:\n",
        "        print(\"Wrong Input! \\n\")\n",
        "    elif(i==2):\n",
        "      if(data[i]=='Y'):\n",
        "        print(\"The Patient is Coughing \\n\")\n",
        "      elif(data[i]=='N'):\n",
        "        print(\"The Patient is not Coughing \\n\")\n",
        "      else:\n",
        "        print(\"Wrong Input! \\n\")\n"
      ]
    },
    {
      "cell_type": "code",
      "execution_count": null,
      "metadata": {
        "id": "wXKf9fcOuaoV"
      },
      "outputs": [],
      "source": [
        "def explain(numeric, BP_list,other_cat, gender):\n",
        "  ifNumeric(numeric,gender)\n",
        "  ifBP_values(BP_list)\n",
        "  ifOther_Categorical_values(other_cat)"
      ]
    },
    {
      "cell_type": "code",
      "execution_count": null,
      "metadata": {
        "id": "o6n9w71arxJ2"
      },
      "outputs": [],
      "source": [
        "def receive_nine_values():\n",
        "    values = []\n",
        "    data=['Temperature', 'Cholestrol', 'Glucose Level', 'Waist Circumference', 'Weight','BMI', 'Hemoglobin Level', 'Physical activity per week']\n",
        "    gender=['Gender(M/F)']\n",
        "    g=[]\n",
        "    num_values=['BP Systolic', 'BP Diastolic']\n",
        "    BP_num_values=[]\n",
        "    non_numeric=['Marital_status','Symp_Cold_i','Symp_Cough_i']\n",
        "    features= ['Temp', 'Chol', 'Glucose_Level', 'Waist_circumference', 'Weight', 'BMI','HB', 'PA/week', 'BP', 'Marital_status', 'Symp_Cold_i', 'Symp_Cough_i']\n",
        "    others=[]\n",
        "    for i in range(len(data)):\n",
        "      print('Enter {} value'.format(data[i]))\n",
        "      value = float(input(\"\"))\n",
        "      values.append(value)\n",
        "    for i in range(len(gender)):\n",
        "      print('Enter {} value'.format(gender[i]))\n",
        "      value = input(\"\")\n",
        "      g.append(value)\n",
        "    for i in range(len(num_values)):\n",
        "      print('Enter {} value'.format(num_values[i]))\n",
        "      value = float(input(\": \"))\n",
        "      BP_num_values.append(value)\n",
        "    for i in range(len(non_numeric)):\n",
        "      print('Enter {} value'.format(non_numeric[i]))\n",
        "      value = input(\"\")\n",
        "      others.append(value)\n",
        "    categories=BP_num_values\n",
        "    bp_cate= categories_BP(categories)\n",
        "    categories_encoded=np.array(encode.transform(pd.DataFrame({'BP':[bp_cate],'Marital_status':[others[0]],'Symp_Cold_i':[others[1]],'Symp_Cough_i':[others[2]]})))\n",
        "    values.append(categories_encoded[0,0])\n",
        "    values.append(categories_encoded[0,1])\n",
        "    values.append(categories_encoded[0,2])\n",
        "    values.append(categories_encoded[0,3])\n",
        "    scaled=scale.transform(pd.DataFrame([np.array(values)], columns=features))\n",
        "    print(\"\\n Explaining the user Input!: \\n\")\n",
        "    explain(values[:-4],BP_num_values,others,g)\n",
        "    return scaled"
      ]
    },
    {
      "cell_type": "code",
      "execution_count": null,
      "metadata": {
        "id": "dAf_AD7or3tB"
      },
      "outputs": [],
      "source": [
        "def break_through(model,user_data):\n",
        "  predicted=model.predict(np.array(user_data).reshape(1, -1))\n",
        "  predicted_probs = loaded.predict_proba(np.array(user_data).reshape(1, -1))\n",
        "  if(np.round(predicted)==0):\n",
        "    print(\"The user is not likely to be infected again, the model's Confidence is %.3f \"%(predicted_probs[0,0]*100))\n",
        "  elif(np.round(predicted)==1):\n",
        "    print(\"The user is likely to be infected again, the model's Confidence is  %.3f\"%(predicted_probs[0,1]*100))"
      ]
    },
    {
      "cell_type": "code",
      "source": [
        "d=receive_nine_values()"
      ],
      "metadata": {
        "id": "PpRgRh_YQtZo"
      },
      "execution_count": null,
      "outputs": []
    },
    {
      "cell_type": "code",
      "source": [
        "break_through(loaded,d)"
      ],
      "metadata": {
        "colab": {
          "base_uri": "https://localhost:8080/"
        },
        "id": "9LfteCHoPfTs",
        "outputId": "b72d05bd-750d-49c0-fdae-aa2e93c29408"
      },
      "execution_count": null,
      "outputs": [
        {
          "output_type": "stream",
          "name": "stdout",
          "text": [
            "The user is likely to be infected again, the model's Confidence is  63.981\n"
          ]
        }
      ]
    },
    {
      "cell_type": "code",
      "source": [],
      "metadata": {
        "id": "DmVjuZLYXgGP"
      },
      "execution_count": null,
      "outputs": []
    }
  ],
  "metadata": {
    "accelerator": "GPU",
    "colab": {
      "provenance": []
    },
    "gpuClass": "standard",
    "kernelspec": {
      "display_name": "Python 3",
      "name": "python3"
    },
    "language_info": {
      "name": "python"
    }
  },
  "nbformat": 4,
  "nbformat_minor": 0
}